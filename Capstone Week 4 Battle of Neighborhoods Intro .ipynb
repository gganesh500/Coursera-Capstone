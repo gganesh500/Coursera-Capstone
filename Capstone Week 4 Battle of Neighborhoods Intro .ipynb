{
    "cells": [
        {
            "cell_type": "markdown",
            "metadata": {
                "collapsed": true
            },
            "source": "# Capstone Project - Battle of the Neighborhoods"
        },
        {
            "cell_type": "markdown",
            "metadata": {},
            "source": "# 1. Introduction"
        },
        {
            "cell_type": "markdown",
            "metadata": {},
            "source": "**Where would I find a certain cuisine of my choice in the city of Madrid, Spain? This project will look at the districts in Madrid and the types of restaurants in those districts. I was planning to travel to Madrid pre-covid and so decided to look at the different cuisines available in the city and where these restaurants are located. I am hoping my fellow tourists may also be interested to know what type of food is available in which area of the city.<br> \nMadrid is the capital and most-populous city of Spain. In 2018, Madrid received 10.21 million tourists of which 53.3% were international tourists. There are many art museums, cultural centers, and bullfighting events. The main annual international events held in Madrid are cycling and tennis Madrid Open. Since 2019, it also hosts Davis Cup which is the finals of the major tournament between men\u2019s national teams.**  \n"
        },
        {
            "cell_type": "code",
            "execution_count": null,
            "metadata": {},
            "outputs": [],
            "source": ""
        }
    ],
    "metadata": {
        "kernelspec": {
            "display_name": "Python 3.8",
            "language": "python",
            "name": "python3"
        },
        "language_info": {
            "codemirror_mode": {
                "name": "ipython",
                "version": 3
            },
            "file_extension": ".py",
            "mimetype": "text/x-python",
            "name": "python",
            "nbconvert_exporter": "python",
            "pygments_lexer": "ipython3",
            "version": "3.8.10"
        }
    },
    "nbformat": 4,
    "nbformat_minor": 1
}